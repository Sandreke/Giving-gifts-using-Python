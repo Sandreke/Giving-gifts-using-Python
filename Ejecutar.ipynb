{
 "cells": [
  {
   "cell_type": "code",
   "execution_count": null,
   "metadata": {},
   "outputs": [],
   "source": [
    "# !pip install pyinstaller "
   ]
  },
  {
   "cell_type": "code",
   "execution_count": 1,
   "metadata": {},
   "outputs": [
    {
     "name": "stderr",
     "output_type": "stream",
     "text": [
      "3066160 INFO: PyInstaller: 4.10\n",
      "3066165 INFO: Python: 3.7.4 (conda)\n",
      "3066166 INFO: Platform: Windows-10-10.0.19041-SP0\n",
      "3066168 INFO: wrote C:\\Users\\SANDRO\\Projects\\Simple Projects\\Happy Birthday\\HB\\Feliz_cumple.spec\n",
      "3066173 INFO: UPX is not available.\n",
      "3066188 INFO: Extending PYTHONPATH with paths\n",
      "['C:\\\\Users\\\\SANDRO\\\\Projects\\\\Simple Projects\\\\Happy Birthday\\\\HB']\n",
      "3067410 INFO: checking Analysis\n",
      "3067411 INFO: Building Analysis because Analysis-00.toc is non existent\n",
      "3067411 INFO: Initializing module dependency graph...\n",
      "3067433 INFO: Caching module graph hooks...\n",
      "3067479 INFO: Analyzing base_library.zip ...\n",
      "3074988 INFO: Caching module dependency graph...\n",
      "3075347 INFO: running Analysis Analysis-00.toc\n",
      "3075373 INFO: Adding Microsoft.Windows.Common-Controls to dependent assemblies of final executable\n",
      "  required by C:\\Users\\SANDRO\\Anaconda3\\python.exe\n",
      "3075700 INFO: Analyzing C:\\Users\\SANDRO\\Projects\\Simple Projects\\Happy Birthday\\HB\\Feliz_cumple.py\n",
      "3080805 INFO: Processing pre-find module path hook distutils from 'C:\\\\Users\\\\SANDRO\\\\Anaconda3\\\\lib\\\\site-packages\\\\PyInstaller\\\\hooks\\\\pre_find_module_path\\\\hook-distutils.py'.\n",
      "3080808 INFO: distutils: retargeting to non-venv dir 'C:\\\\Users\\\\SANDRO\\\\Anaconda3\\\\lib'\n",
      "3084196 INFO: Processing pre-safe import module hook setuptools.extern.six.moves from 'C:\\\\Users\\\\SANDRO\\\\Anaconda3\\\\lib\\\\site-packages\\\\PyInstaller\\\\hooks\\\\pre_safe_import_module\\\\hook-setuptools.extern.six.moves.py'.\n",
      "3085278 INFO: Processing pre-find module path hook site from 'C:\\\\Users\\\\SANDRO\\\\Anaconda3\\\\lib\\\\site-packages\\\\PyInstaller\\\\hooks\\\\pre_find_module_path\\\\hook-site.py'.\n",
      "3085281 INFO: site: retargeting to fake-dir 'C:\\\\Users\\\\SANDRO\\\\Anaconda3\\\\lib\\\\site-packages\\\\PyInstaller\\\\fake-modules'\n",
      "3094476 INFO: Processing module hooks...\n",
      "3094477 INFO: Loading module hook 'hook-py.py' from 'C:\\\\Users\\\\SANDRO\\\\Anaconda3\\\\lib\\\\site-packages\\\\_pyinstaller_hooks_contrib\\\\hooks\\\\stdhooks'...\n",
      "3095401 INFO: Loading module hook 'hook-pycparser.py' from 'C:\\\\Users\\\\SANDRO\\\\Anaconda3\\\\lib\\\\site-packages\\\\_pyinstaller_hooks_contrib\\\\hooks\\\\stdhooks'...\n",
      "3095402 INFO: Loading module hook 'hook-pytest.py' from 'C:\\\\Users\\\\SANDRO\\\\Anaconda3\\\\lib\\\\site-packages\\\\_pyinstaller_hooks_contrib\\\\hooks\\\\stdhooks'...\n",
      "3096937 INFO: Loading module hook 'hook-pygame.py' from 'C:\\\\Users\\\\SANDRO\\\\Anaconda3\\\\lib\\\\site-packages\\\\pygame\\\\__pyinstaller'...\n",
      "3097285 INFO: Loading module hook 'hook-difflib.py' from 'C:\\\\Users\\\\SANDRO\\\\Anaconda3\\\\lib\\\\site-packages\\\\PyInstaller\\\\hooks'...\n",
      "3097291 INFO: Loading module hook 'hook-distutils.py' from 'C:\\\\Users\\\\SANDRO\\\\Anaconda3\\\\lib\\\\site-packages\\\\PyInstaller\\\\hooks'...\n",
      "3097293 INFO: Loading module hook 'hook-distutils.util.py' from 'C:\\\\Users\\\\SANDRO\\\\Anaconda3\\\\lib\\\\site-packages\\\\PyInstaller\\\\hooks'...\n",
      "3097299 INFO: Loading module hook 'hook-encodings.py' from 'C:\\\\Users\\\\SANDRO\\\\Anaconda3\\\\lib\\\\site-packages\\\\PyInstaller\\\\hooks'...\n"
     ]
    },
    {
     "name": "stdout",
     "output_type": "stream",
     "text": [
      "pygame 2.1.2 (SDL 2.0.18, Python 3.7.4)\n",
      "Hello from the pygame community. https://www.pygame.org/contribute.html\n"
     ]
    },
    {
     "name": "stderr",
     "output_type": "stream",
     "text": [
      "3097409 INFO: Loading module hook 'hook-heapq.py' from 'C:\\\\Users\\\\SANDRO\\\\Anaconda3\\\\lib\\\\site-packages\\\\PyInstaller\\\\hooks'...\n",
      "3097422 INFO: Loading module hook 'hook-importlib_metadata.py' from 'C:\\\\Users\\\\SANDRO\\\\Anaconda3\\\\lib\\\\site-packages\\\\PyInstaller\\\\hooks'...\n",
      "3097428 INFO: Loading module hook 'hook-lib2to3.py' from 'C:\\\\Users\\\\SANDRO\\\\Anaconda3\\\\lib\\\\site-packages\\\\PyInstaller\\\\hooks'...\n",
      "3097511 INFO: Loading module hook 'hook-multiprocessing.util.py' from 'C:\\\\Users\\\\SANDRO\\\\Anaconda3\\\\lib\\\\site-packages\\\\PyInstaller\\\\hooks'...\n",
      "3097513 INFO: Import to be excluded not found: 'test'\n",
      "3097515 INFO: Loading module hook 'hook-numpy.py' from 'C:\\\\Users\\\\SANDRO\\\\Anaconda3\\\\lib\\\\site-packages\\\\PyInstaller\\\\hooks'...\n",
      "3097676 INFO: Import to be excluded not found: 'f2py'\n",
      "3097711 INFO: Loading module hook 'hook-numpy._pytesttester.py' from 'C:\\\\Users\\\\SANDRO\\\\Anaconda3\\\\lib\\\\site-packages\\\\PyInstaller\\\\hooks'...\n",
      "3097717 INFO: Loading module hook 'hook-packaging.py' from 'C:\\\\Users\\\\SANDRO\\\\Anaconda3\\\\lib\\\\site-packages\\\\PyInstaller\\\\hooks'...\n",
      "3097719 INFO: Loading module hook 'hook-pickle.py' from 'C:\\\\Users\\\\SANDRO\\\\Anaconda3\\\\lib\\\\site-packages\\\\PyInstaller\\\\hooks'...\n",
      "3097728 INFO: Loading module hook 'hook-pkg_resources.py' from 'C:\\\\Users\\\\SANDRO\\\\Anaconda3\\\\lib\\\\site-packages\\\\PyInstaller\\\\hooks'...\n",
      "3099034 INFO: Processing pre-safe import module hook win32com from 'C:\\\\Users\\\\SANDRO\\\\Anaconda3\\\\lib\\\\site-packages\\\\_pyinstaller_hooks_contrib\\\\hooks\\\\pre_safe_import_module\\\\hook-win32com.py'.\n",
      "3099601 WARNING: Hidden import \"pkg_resources.py2_warn\" not found!\n",
      "3099844 WARNING: Hidden import \"pkg_resources.markers\" not found!\n",
      "3099847 INFO: Loading module hook 'hook-scipy.py' from 'C:\\\\Users\\\\SANDRO\\\\Anaconda3\\\\lib\\\\site-packages\\\\PyInstaller\\\\hooks'...\n",
      "3099852 INFO: Loading module hook 'hook-setuptools.py' from 'C:\\\\Users\\\\SANDRO\\\\Anaconda3\\\\lib\\\\site-packages\\\\PyInstaller\\\\hooks'...\n",
      "3101503 INFO: Loading module hook 'hook-sysconfig.py' from 'C:\\\\Users\\\\SANDRO\\\\Anaconda3\\\\lib\\\\site-packages\\\\PyInstaller\\\\hooks'...\n",
      "3101508 INFO: Loading module hook 'hook-wcwidth.py' from 'C:\\\\Users\\\\SANDRO\\\\Anaconda3\\\\lib\\\\site-packages\\\\PyInstaller\\\\hooks'...\n",
      "3101524 INFO: Loading module hook 'hook-xml.dom.domreg.py' from 'C:\\\\Users\\\\SANDRO\\\\Anaconda3\\\\lib\\\\site-packages\\\\PyInstaller\\\\hooks'...\n",
      "3101530 INFO: Loading module hook 'hook-xml.etree.cElementTree.py' from 'C:\\\\Users\\\\SANDRO\\\\Anaconda3\\\\lib\\\\site-packages\\\\PyInstaller\\\\hooks'...\n",
      "3101533 INFO: Loading module hook 'hook-xml.py' from 'C:\\\\Users\\\\SANDRO\\\\Anaconda3\\\\lib\\\\site-packages\\\\PyInstaller\\\\hooks'...\n",
      "3101539 INFO: Loading module hook 'hook-pythoncom.py' from 'C:\\\\Users\\\\SANDRO\\\\Anaconda3\\\\lib\\\\site-packages\\\\_pyinstaller_hooks_contrib\\\\hooks\\\\stdhooks'...\n",
      "3102485 INFO: Loading module hook 'hook-pywintypes.py' from 'C:\\\\Users\\\\SANDRO\\\\Anaconda3\\\\lib\\\\site-packages\\\\_pyinstaller_hooks_contrib\\\\hooks\\\\stdhooks'...\n",
      "3103398 INFO: Loading module hook 'hook-win32com.py' from 'C:\\\\Users\\\\SANDRO\\\\Anaconda3\\\\lib\\\\site-packages\\\\_pyinstaller_hooks_contrib\\\\hooks\\\\stdhooks'...\n",
      "3104540 INFO: Loading module hook 'hook-setuptools.msvc.py' from 'C:\\\\Users\\\\SANDRO\\\\Anaconda3\\\\lib\\\\site-packages\\\\PyInstaller\\\\hooks'...\n",
      "3104573 INFO: Looking for ctypes DLLs\n",
      "3104637 INFO: Analyzing run-time hooks ...\n",
      "3104645 INFO: Including run-time hook 'C:\\\\Users\\\\SANDRO\\\\Anaconda3\\\\lib\\\\site-packages\\\\PyInstaller\\\\hooks\\\\rthooks\\\\pyi_rth_subprocess.py'\n",
      "3104649 INFO: Including run-time hook 'C:\\\\Users\\\\SANDRO\\\\Anaconda3\\\\lib\\\\site-packages\\\\PyInstaller\\\\hooks\\\\rthooks\\\\pyi_rth_pkgutil.py'\n",
      "3104653 INFO: Including run-time hook 'C:\\\\Users\\\\SANDRO\\\\Anaconda3\\\\lib\\\\site-packages\\\\PyInstaller\\\\hooks\\\\rthooks\\\\pyi_rth_win32api.py'\n",
      "3104659 INFO: Including run-time hook 'C:\\\\Users\\\\SANDRO\\\\Anaconda3\\\\lib\\\\site-packages\\\\PyInstaller\\\\hooks\\\\rthooks\\\\pyi_rth_inspect.py'\n",
      "3104665 INFO: Including run-time hook 'C:\\\\Users\\\\SANDRO\\\\Anaconda3\\\\lib\\\\site-packages\\\\PyInstaller\\\\hooks\\\\rthooks\\\\pyi_rth_pkgres.py'\n",
      "3104675 INFO: Including run-time hook 'C:\\\\Users\\\\SANDRO\\\\Anaconda3\\\\lib\\\\site-packages\\\\PyInstaller\\\\hooks\\\\rthooks\\\\pyi_rth_win32comgenpy.py'\n",
      "3104706 INFO: Looking for dynamic libraries\n",
      "3105639 INFO: Looking for eggs\n",
      "3105642 INFO: Using Python library C:\\Users\\SANDRO\\Anaconda3\\python37.dll\n",
      "3105642 INFO: Found binding redirects: \n",
      "[]\n",
      "3105654 INFO: Warnings written to C:\\Users\\SANDRO\\Projects\\Simple Projects\\Happy Birthday\\HB\\build\\Feliz_cumple\\warn-Feliz_cumple.txt\n",
      "3105760 INFO: Graph cross-reference written to C:\\Users\\SANDRO\\Projects\\Simple Projects\\Happy Birthday\\HB\\build\\Feliz_cumple\\xref-Feliz_cumple.html\n",
      "3105788 INFO: Appending 'datas' from .spec\n",
      "3105797 INFO: checking PYZ\n",
      "3105798 INFO: Building PYZ because PYZ-00.toc is non existent\n",
      "3105799 INFO: Building PYZ (ZlibArchive) C:\\Users\\SANDRO\\Projects\\Simple Projects\\Happy Birthday\\HB\\build\\Feliz_cumple\\PYZ-00.pyz\n",
      "3106919 INFO: Building PYZ (ZlibArchive) C:\\Users\\SANDRO\\Projects\\Simple Projects\\Happy Birthday\\HB\\build\\Feliz_cumple\\PYZ-00.pyz completed successfully.\n",
      "3106945 INFO: checking PKG\n",
      "3106946 INFO: Building PKG because PKG-00.toc is non existent\n",
      "3106947 INFO: Building PKG (CArchive) Feliz_cumple.pkg\n",
      "3188324 INFO: Building PKG (CArchive) Feliz_cumple.pkg completed successfully.\n",
      "3188330 INFO: Bootloader C:\\Users\\SANDRO\\Anaconda3\\lib\\site-packages\\PyInstaller\\bootloader\\Windows-64bit\\run.exe\n",
      "3188332 INFO: checking EXE\n",
      "3188334 INFO: Building EXE because EXE-00.toc is non existent\n",
      "3188336 INFO: Building EXE from EXE-00.toc\n",
      "3188339 INFO: Copying bootloader EXE to C:\\Users\\SANDRO\\Projects\\Simple Projects\\Happy Birthday\\HB\\dist\\Feliz_cumple.exe.notanexecutable\n",
      "3189080 INFO: Copying icon to EXE\n",
      "3189081 INFO: Copying icons from ['C:\\\\Users\\\\SANDRO\\\\Anaconda3\\\\lib\\\\site-packages\\\\PyInstaller\\\\bootloader\\\\images\\\\icon-console.ico']\n",
      "3189178 INFO: Writing RT_GROUP_ICON 0 resource with 104 bytes\n",
      "3189179 INFO: Writing RT_ICON 1 resource with 3752 bytes\n",
      "3189180 INFO: Writing RT_ICON 2 resource with 2216 bytes\n",
      "3189180 INFO: Writing RT_ICON 3 resource with 1384 bytes\n",
      "3189181 INFO: Writing RT_ICON 4 resource with 37019 bytes\n",
      "3189182 INFO: Writing RT_ICON 5 resource with 9640 bytes\n",
      "3189183 INFO: Writing RT_ICON 6 resource with 4264 bytes\n",
      "3189185 INFO: Writing RT_ICON 7 resource with 1128 bytes\n",
      "3189249 INFO: Copying 0 resources to EXE\n",
      "3189251 INFO: Emedding manifest in EXE\n",
      "3189253 INFO: Updating manifest in C:\\Users\\SANDRO\\Projects\\Simple Projects\\Happy Birthday\\HB\\dist\\Feliz_cumple.exe.notanexecutable\n",
      "3189369 INFO: Updating resource type 24 name 1 language 0\n",
      "3189376 INFO: Appending PKG archive to EXE\n",
      "3291663 INFO: Building EXE from EXE-00.toc completed successfully.\n"
     ]
    }
   ],
   "source": [
    "import PyInstaller.__main__\n",
    "import os\n",
    "\n",
    "PyInstaller.__main__.run([\n",
    "    'Feliz_cumple.py',\n",
    "    '--onefile',\n",
    "    '--add-data=%s' % 'Feliz_cumple_rola.mp3;.'\n",
    "])"
   ]
  }
 ],
 "metadata": {
  "kernelspec": {
   "display_name": "Python 3",
   "language": "python",
   "name": "python3"
  },
  "language_info": {
   "codemirror_mode": {
    "name": "ipython",
    "version": 3
   },
   "file_extension": ".py",
   "mimetype": "text/x-python",
   "name": "python",
   "nbconvert_exporter": "python",
   "pygments_lexer": "ipython3",
   "version": "3.7.4"
  }
 },
 "nbformat": 4,
 "nbformat_minor": 2
}
